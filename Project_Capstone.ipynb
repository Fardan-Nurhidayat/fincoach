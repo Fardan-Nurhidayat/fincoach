{
  "cells": [
    {
      "cell_type": "markdown",
      "metadata": {
        "id": "IjSL9wFeke8_"
      },
      "source": [
        "# Import Library"
      ]
    },
    {
      "cell_type": "code",
      "execution_count": 1,
      "metadata": {
        "id": "C4WZlMV8khUS"
      },
      "outputs": [],
      "source": [
        "import yfinance as yf\n",
        "import pandas as pd"
      ]
    },
    {
      "cell_type": "markdown",
      "metadata": {
        "id": "Td3pl7VNkmJz"
      },
      "source": [
        "# Data Scraping"
      ]
    },
    {
      "cell_type": "code",
      "execution_count": 2,
      "metadata": {
        "colab": {
          "base_uri": "https://localhost:8080/"
        },
        "id": "BY3Fyqc8kk1v",
        "outputId": "0b8ba606-a54e-455c-a12f-a82d6ae94ff8"
      },
      "outputs": [
        {
          "name": "stdout",
          "output_type": "stream",
          "text": [
            "YF.download() has changed argument auto_adjust default to True\n"
          ]
        },
        {
          "name": "stderr",
          "output_type": "stream",
          "text": [
            "[*********************100%***********************]  1 of 1 completed\n",
            "[*********************100%***********************]  1 of 1 completed\n",
            "[*********************100%***********************]  1 of 1 completed\n",
            "[*********************100%***********************]  1 of 1 completed\n",
            "[*********************100%***********************]  1 of 1 completed\n",
            "[*********************100%***********************]  1 of 1 completed\n",
            "[*********************100%***********************]  1 of 1 completed\n",
            "[*********************100%***********************]  1 of 1 completed\n",
            "[*********************100%***********************]  1 of 1 completed\n",
            "[*********************100%***********************]  1 of 1 completed\n"
          ]
        }
      ],
      "source": [
        "# List ticker untuk saham 10 perusahaan Indonesia\n",
        "tickers = ['BBCA.JK', 'BYAN.JK', 'TPIA.JK', 'BBRI.JK', 'BMRI.JK', 'DSSA.JK', 'TLKM.JK', 'ASII.JK', 'BBNI.JK', 'ICBP.JK']\n",
        "\n",
        "# Download data harga penutupan (adjusted close) untuk setiap perusahaan dengan interval 1 hari\n",
        "stock_datas = {}\n",
        "for ticker in tickers:\n",
        "  df = yf.download(ticker, start='2018-01-01', end='2025-05-05', interval='1d')\n",
        "  stock_datas[ticker] = df['Close']\n",
        "\n",
        "# Gabung semua jadi 1 dataframe\n",
        "df_all = pd.concat(stock_datas, axis=1)\n",
        "df_all.columns = tickers"
      ]
    },
    {
      "cell_type": "code",
      "execution_count": 11,
      "metadata": {},
      "outputs": [],
      "source": [
        "df_all.columns = df_all.columns.str.replace('.JK', '', regex=False)"
      ]
    },
    {
      "cell_type": "code",
      "execution_count": 12,
      "metadata": {
        "colab": {
          "base_uri": "https://localhost:8080/",
          "height": 89
        },
        "id": "4Y4DoiK2v7T8",
        "outputId": "879f65e6-cea1-4e8c-bdc9-929e0810cd28"
      },
      "outputs": [
        {
          "data": {
            "text/html": [
              "<div>\n",
              "<style scoped>\n",
              "    .dataframe tbody tr th:only-of-type {\n",
              "        vertical-align: middle;\n",
              "    }\n",
              "\n",
              "    .dataframe tbody tr th {\n",
              "        vertical-align: top;\n",
              "    }\n",
              "\n",
              "    .dataframe thead th {\n",
              "        text-align: right;\n",
              "    }\n",
              "</style>\n",
              "<table border=\"1\" class=\"dataframe\">\n",
              "  <thead>\n",
              "    <tr style=\"text-align: right;\">\n",
              "      <th></th>\n",
              "      <th>BBCA</th>\n",
              "      <th>BYAN</th>\n",
              "      <th>TPIA</th>\n",
              "      <th>BBRI</th>\n",
              "      <th>BMRI</th>\n",
              "      <th>DSSA</th>\n",
              "      <th>TLKM</th>\n",
              "      <th>ASII</th>\n",
              "      <th>BBNI</th>\n",
              "      <th>ICBP</th>\n",
              "    </tr>\n",
              "    <tr>\n",
              "      <th>Date</th>\n",
              "      <th></th>\n",
              "      <th></th>\n",
              "      <th></th>\n",
              "      <th></th>\n",
              "      <th></th>\n",
              "      <th></th>\n",
              "      <th></th>\n",
              "      <th></th>\n",
              "      <th></th>\n",
              "      <th></th>\n",
              "    </tr>\n",
              "  </thead>\n",
              "  <tbody>\n",
              "    <tr>\n",
              "      <th>2018-01-01</th>\n",
              "      <td>3723.926514</td>\n",
              "      <td>711.824585</td>\n",
              "      <td>1457.917480</td>\n",
              "      <td>2289.992676</td>\n",
              "      <td>2592.610352</td>\n",
              "      <td>1390.0</td>\n",
              "      <td>3383.593994</td>\n",
              "      <td>5748.219727</td>\n",
              "      <td>3732.603516</td>\n",
              "      <td>7525.144531</td>\n",
              "    </tr>\n",
              "    <tr>\n",
              "      <th>2018-01-02</th>\n",
              "      <td>3723.926514</td>\n",
              "      <td>718.539856</td>\n",
              "      <td>1439.693726</td>\n",
              "      <td>2283.701172</td>\n",
              "      <td>2543.998779</td>\n",
              "      <td>1410.0</td>\n",
              "      <td>3360.732178</td>\n",
              "      <td>5678.964355</td>\n",
              "      <td>3685.474365</td>\n",
              "      <td>7694.247070</td>\n",
              "    </tr>\n",
              "    <tr>\n",
              "      <th>2018-01-03</th>\n",
              "      <td>3723.926514</td>\n",
              "      <td>718.539856</td>\n",
              "      <td>1403.245728</td>\n",
              "      <td>2271.119141</td>\n",
              "      <td>2495.387451</td>\n",
              "      <td>1390.0</td>\n",
              "      <td>3223.559326</td>\n",
              "      <td>5575.079102</td>\n",
              "      <td>3553.514648</td>\n",
              "      <td>7694.247070</td>\n",
              "    </tr>\n",
              "    <tr>\n",
              "      <th>2018-01-04</th>\n",
              "      <td>3779.190674</td>\n",
              "      <td>711.824585</td>\n",
              "      <td>1348.573608</td>\n",
              "      <td>2233.371826</td>\n",
              "      <td>2535.896729</td>\n",
              "      <td>1390.0</td>\n",
              "      <td>3215.938721</td>\n",
              "      <td>5696.277344</td>\n",
              "      <td>3544.088623</td>\n",
              "      <td>7715.386719</td>\n",
              "    </tr>\n",
              "    <tr>\n",
              "      <th>2018-01-05</th>\n",
              "      <td>3783.440918</td>\n",
              "      <td>715.182190</td>\n",
              "      <td>1385.021484</td>\n",
              "      <td>2258.536621</td>\n",
              "      <td>2535.896729</td>\n",
              "      <td>1390.0</td>\n",
              "      <td>3261.663086</td>\n",
              "      <td>5748.219727</td>\n",
              "      <td>3506.385742</td>\n",
              "      <td>7842.214844</td>\n",
              "    </tr>\n",
              "    <tr>\n",
              "      <th>...</th>\n",
              "      <td>...</td>\n",
              "      <td>...</td>\n",
              "      <td>...</td>\n",
              "      <td>...</td>\n",
              "      <td>...</td>\n",
              "      <td>...</td>\n",
              "      <td>...</td>\n",
              "      <td>...</td>\n",
              "      <td>...</td>\n",
              "      <td>...</td>\n",
              "    </tr>\n",
              "    <tr>\n",
              "      <th>2025-04-25</th>\n",
              "      <td>8600.000000</td>\n",
              "      <td>19950.000000</td>\n",
              "      <td>7800.000000</td>\n",
              "      <td>3740.000000</td>\n",
              "      <td>4900.000000</td>\n",
              "      <td>42250.0</td>\n",
              "      <td>2600.000000</td>\n",
              "      <td>4860.000000</td>\n",
              "      <td>4200.000000</td>\n",
              "      <td>11000.000000</td>\n",
              "    </tr>\n",
              "    <tr>\n",
              "      <th>2025-04-28</th>\n",
              "      <td>8775.000000</td>\n",
              "      <td>19975.000000</td>\n",
              "      <td>7800.000000</td>\n",
              "      <td>3840.000000</td>\n",
              "      <td>4920.000000</td>\n",
              "      <td>44850.0</td>\n",
              "      <td>2560.000000</td>\n",
              "      <td>4890.000000</td>\n",
              "      <td>4190.000000</td>\n",
              "      <td>11000.000000</td>\n",
              "    </tr>\n",
              "    <tr>\n",
              "      <th>2025-04-29</th>\n",
              "      <td>8725.000000</td>\n",
              "      <td>19875.000000</td>\n",
              "      <td>7675.000000</td>\n",
              "      <td>3850.000000</td>\n",
              "      <td>4940.000000</td>\n",
              "      <td>45875.0</td>\n",
              "      <td>2590.000000</td>\n",
              "      <td>4800.000000</td>\n",
              "      <td>4140.000000</td>\n",
              "      <td>11250.000000</td>\n",
              "    </tr>\n",
              "    <tr>\n",
              "      <th>2025-04-30</th>\n",
              "      <td>8825.000000</td>\n",
              "      <td>19775.000000</td>\n",
              "      <td>7875.000000</td>\n",
              "      <td>3850.000000</td>\n",
              "      <td>4890.000000</td>\n",
              "      <td>45500.0</td>\n",
              "      <td>2640.000000</td>\n",
              "      <td>4800.000000</td>\n",
              "      <td>4180.000000</td>\n",
              "      <td>11350.000000</td>\n",
              "    </tr>\n",
              "    <tr>\n",
              "      <th>2025-05-02</th>\n",
              "      <td>8975.000000</td>\n",
              "      <td>19900.000000</td>\n",
              "      <td>8650.000000</td>\n",
              "      <td>3880.000000</td>\n",
              "      <td>4960.000000</td>\n",
              "      <td>45900.0</td>\n",
              "      <td>2680.000000</td>\n",
              "      <td>4790.000000</td>\n",
              "      <td>4200.000000</td>\n",
              "      <td>11000.000000</td>\n",
              "    </tr>\n",
              "  </tbody>\n",
              "</table>\n",
              "<p>1805 rows × 10 columns</p>\n",
              "</div>"
            ],
            "text/plain": [
              "                   BBCA          BYAN         TPIA         BBRI         BMRI  \\\n",
              "Date                                                                           \n",
              "2018-01-01  3723.926514    711.824585  1457.917480  2289.992676  2592.610352   \n",
              "2018-01-02  3723.926514    718.539856  1439.693726  2283.701172  2543.998779   \n",
              "2018-01-03  3723.926514    718.539856  1403.245728  2271.119141  2495.387451   \n",
              "2018-01-04  3779.190674    711.824585  1348.573608  2233.371826  2535.896729   \n",
              "2018-01-05  3783.440918    715.182190  1385.021484  2258.536621  2535.896729   \n",
              "...                 ...           ...          ...          ...          ...   \n",
              "2025-04-25  8600.000000  19950.000000  7800.000000  3740.000000  4900.000000   \n",
              "2025-04-28  8775.000000  19975.000000  7800.000000  3840.000000  4920.000000   \n",
              "2025-04-29  8725.000000  19875.000000  7675.000000  3850.000000  4940.000000   \n",
              "2025-04-30  8825.000000  19775.000000  7875.000000  3850.000000  4890.000000   \n",
              "2025-05-02  8975.000000  19900.000000  8650.000000  3880.000000  4960.000000   \n",
              "\n",
              "               DSSA         TLKM         ASII         BBNI          ICBP  \n",
              "Date                                                                      \n",
              "2018-01-01   1390.0  3383.593994  5748.219727  3732.603516   7525.144531  \n",
              "2018-01-02   1410.0  3360.732178  5678.964355  3685.474365   7694.247070  \n",
              "2018-01-03   1390.0  3223.559326  5575.079102  3553.514648   7694.247070  \n",
              "2018-01-04   1390.0  3215.938721  5696.277344  3544.088623   7715.386719  \n",
              "2018-01-05   1390.0  3261.663086  5748.219727  3506.385742   7842.214844  \n",
              "...             ...          ...          ...          ...           ...  \n",
              "2025-04-25  42250.0  2600.000000  4860.000000  4200.000000  11000.000000  \n",
              "2025-04-28  44850.0  2560.000000  4890.000000  4190.000000  11000.000000  \n",
              "2025-04-29  45875.0  2590.000000  4800.000000  4140.000000  11250.000000  \n",
              "2025-04-30  45500.0  2640.000000  4800.000000  4180.000000  11350.000000  \n",
              "2025-05-02  45900.0  2680.000000  4790.000000  4200.000000  11000.000000  \n",
              "\n",
              "[1805 rows x 10 columns]"
            ]
          },
          "execution_count": 12,
          "metadata": {},
          "output_type": "execute_result"
        }
      ],
      "source": [
        "df_all"
      ]
    },
    {
      "cell_type": "code",
      "execution_count": 13,
      "metadata": {
        "id": "pMxOVkTMk4uN"
      },
      "outputs": [],
      "source": [
        "# Saving data to csv\n",
        "df_all.to_csv(\"stocks.csv\", index=False)"
      ]
    },
    {
      "cell_type": "markdown",
      "metadata": {
        "id": "lzFr-8wFyop_"
      },
      "source": [
        "# Data Exploration"
      ]
    },
    {
      "cell_type": "code",
      "execution_count": 14,
      "metadata": {
        "colab": {
          "base_uri": "https://localhost:8080/",
          "height": 397
        },
        "id": "WbhhyunqwSrd",
        "outputId": "06a2f0e4-9c90-4a38-e6f6-63779f86f5a3"
      },
      "outputs": [
        {
          "data": {
            "text/plain": [
              "BBCA    0\n",
              "BYAN    0\n",
              "TPIA    0\n",
              "BBRI    0\n",
              "BMRI    0\n",
              "DSSA    0\n",
              "TLKM    1\n",
              "ASII    1\n",
              "BBNI    0\n",
              "ICBP    1\n",
              "dtype: int64"
            ]
          },
          "execution_count": 14,
          "metadata": {},
          "output_type": "execute_result"
        }
      ],
      "source": [
        "df_all.isnull().sum()"
      ]
    },
    {
      "cell_type": "code",
      "execution_count": 15,
      "metadata": {
        "colab": {
          "base_uri": "https://localhost:8080/",
          "height": 81
        },
        "id": "PKPRFVIoyQ6K",
        "outputId": "e558068e-9d19-43a6-f462-88b31089ccc9"
      },
      "outputs": [
        {
          "data": {
            "text/html": [
              "<div>\n",
              "<style scoped>\n",
              "    .dataframe tbody tr th:only-of-type {\n",
              "        vertical-align: middle;\n",
              "    }\n",
              "\n",
              "    .dataframe tbody tr th {\n",
              "        vertical-align: top;\n",
              "    }\n",
              "\n",
              "    .dataframe thead th {\n",
              "        text-align: right;\n",
              "    }\n",
              "</style>\n",
              "<table border=\"1\" class=\"dataframe\">\n",
              "  <thead>\n",
              "    <tr style=\"text-align: right;\">\n",
              "      <th></th>\n",
              "      <th>BBCA</th>\n",
              "      <th>BYAN</th>\n",
              "      <th>TPIA</th>\n",
              "      <th>BBRI</th>\n",
              "      <th>BMRI</th>\n",
              "      <th>DSSA</th>\n",
              "      <th>TLKM</th>\n",
              "      <th>ASII</th>\n",
              "      <th>BBNI</th>\n",
              "      <th>ICBP</th>\n",
              "    </tr>\n",
              "    <tr>\n",
              "      <th>Date</th>\n",
              "      <th></th>\n",
              "      <th></th>\n",
              "      <th></th>\n",
              "      <th></th>\n",
              "      <th></th>\n",
              "      <th></th>\n",
              "      <th></th>\n",
              "      <th></th>\n",
              "      <th></th>\n",
              "      <th></th>\n",
              "    </tr>\n",
              "  </thead>\n",
              "  <tbody>\n",
              "    <tr>\n",
              "      <th>2019-06-19</th>\n",
              "      <td>5152.053711</td>\n",
              "      <td>1144.98999</td>\n",
              "      <td>1209.519653</td>\n",
              "      <td>2880.276123</td>\n",
              "      <td>2881.316895</td>\n",
              "      <td>1450.0</td>\n",
              "      <td>NaN</td>\n",
              "      <td>NaN</td>\n",
              "      <td>3534.166748</td>\n",
              "      <td>NaN</td>\n",
              "    </tr>\n",
              "  </tbody>\n",
              "</table>\n",
              "</div>"
            ],
            "text/plain": [
              "                   BBCA        BYAN         TPIA         BBRI         BMRI  \\\n",
              "Date                                                                         \n",
              "2019-06-19  5152.053711  1144.98999  1209.519653  2880.276123  2881.316895   \n",
              "\n",
              "              DSSA  TLKM  ASII         BBNI  ICBP  \n",
              "Date                                               \n",
              "2019-06-19  1450.0   NaN   NaN  3534.166748   NaN  "
            ]
          },
          "execution_count": 15,
          "metadata": {},
          "output_type": "execute_result"
        }
      ],
      "source": [
        "# Melihat baris yang bernilai null\n",
        "df_all[df_all.isnull().any(axis=1)]"
      ]
    },
    {
      "cell_type": "code",
      "execution_count": null,
      "metadata": {},
      "outputs": [],
      "source": []
    }
  ],
  "metadata": {
    "colab": {
      "provenance": []
    },
    "kernelspec": {
      "display_name": ".env",
      "language": "python",
      "name": "python3"
    },
    "language_info": {
      "codemirror_mode": {
        "name": "ipython",
        "version": 3
      },
      "file_extension": ".py",
      "mimetype": "text/x-python",
      "name": "python",
      "nbconvert_exporter": "python",
      "pygments_lexer": "ipython3",
      "version": "3.11.6"
    }
  },
  "nbformat": 4,
  "nbformat_minor": 0
}
